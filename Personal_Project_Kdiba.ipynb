# Machine Learning - Personal Project

Description du projet :

## Part I : This section concerns the loading of useful packages for this project and the loading of data

Loading packages

import pandas as pd
import numpy as np
import csv
import os
from sklearn.model_selection import train_test_split
from sklearn.ensemble import RandomForestClassifier
from sklearn.ensemble import ExtraTreesClassifier
from sklearn.metrics import accuracy_score
from sklearn.metrics import confusion_matrix
from sklearn import preprocessing
import matplotlib.pyplot as plt

Loading data as dataframe

path = 'C:/Users/Keyvan/Desktop/data_ML/'
data = 'LGS2.csv'

df = pd.read_csv('LGS2.csv')

## Part II :





## Part III :








