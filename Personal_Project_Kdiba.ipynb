{
  "nbformat": 4,
  "nbformat_minor": 0,
  "metadata": {
    "colab": {
      "name": "Personal_Project_Kdiba.ipynb",
      "provenance": [],
      "collapsed_sections": [],
      "include_colab_link": true
    },
    "kernelspec": {
      "name": "python3",
      "display_name": "Python 3"
    },
    "language_info": {
      "name": "python"
    }
  },
  "cells": [
    {
      "cell_type": "markdown",
      "metadata": {
        "id": "view-in-github",
        "colab_type": "text"
      },
      "source": [
        "<a href=\"https://colab.research.google.com/github/KeyvanDiba/2022_ML_Earth_Env_Sci/blob/main/Personal_Project_Kdiba.ipynb\" target=\"_parent\"><img src=\"https://colab.research.google.com/assets/colab-badge.svg\" alt=\"Open In Colab\"/></a>"
      ]
    },
    {
      "cell_type": "markdown",
      "source": [
        "# Machine Learning - Personal Project"
      ],
      "metadata": {
        "id": "2aXSTrgQUFWV"
      }
    },
    {
      "cell_type": "markdown",
      "source": [
        "Description du projet : This work assesses the potential for applying machine learning techniques and algorithms to suspended sediment concentration in a proglacial river to predict sediment concentration as a function of discharge and to observe whether these two variables are correlated."
      ],
      "metadata": {
        "id": "uDpLMiDWUFqz"
      }
    },
    {
      "cell_type": "markdown",
      "source": [
        "## Part I : Connection to my Drive and downloading of data"
      ],
      "metadata": {
        "id": "g-znLhguUGAr"
      }
    },
    {
      "cell_type": "markdown",
      "source": [
        "Here, the goal is to connect this notebook to my personal Drive and download my data file"
      ],
      "metadata": {
        "id": "b5nHcdfEdrNZ"
      }
    },
    {
      "cell_type": "code",
      "source": [
        "!pip install -U -q PyDrive\n",
        "from pydrive.auth import GoogleAuth\n",
        "from pydrive.drive import GoogleDrive\n",
        "from google.colab import auth\n",
        "from oauth2client.client import GoogleCredentials"
      ],
      "metadata": {
        "id": "HnoIVyK5-sXW"
      },
      "execution_count": null,
      "outputs": []
    },
    {
      "cell_type": "code",
      "source": [
        "from google.colab import drive\n",
        "drive.mount('/content/drive')"
      ],
      "metadata": {
        "colab": {
          "base_uri": "https://localhost:8080/"
        },
        "id": "SXSVY99Mmlup",
        "outputId": "a864c5b0-e44f-44b7-d580-d79ceb693422"
      },
      "execution_count": null,
      "outputs": [
        {
          "output_type": "stream",
          "name": "stdout",
          "text": [
            "Drive already mounted at /content/drive; to attempt to forcibly remount, call drive.mount(\"/content/drive\", force_remount=True).\n"
          ]
        }
      ]
    },
    {
      "cell_type": "code",
      "source": [
        "import pandas as pd\n",
        "df_1 =pd.read_excel('/content/LGS1_data.xlsx')\n",
        "df_2 =pd.read_excel('/content/LGS2_data.xlsx')"
      ],
      "metadata": {
        "id": "zmGCNXpEo4UI"
      },
      "execution_count": null,
      "outputs": []
    },
    {
      "cell_type": "code",
      "source": [
        "df_1"
      ],
      "metadata": {
        "colab": {
          "base_uri": "https://localhost:8080/"
        },
        "id": "nRVK2WdD7jQB",
        "outputId": "c5cfac31-e8d7-4784-d4a0-69231349b43d"
      },
      "execution_count": null,
      "outputs": [
        {
          "output_type": "execute_result",
          "data": {
            "text/plain": [
              "         Time       C    SD_C       Q    SD_Q      QC   SD_QC   NoUse  NoUse2\n",
              "0     244.003  0.9668  0.0068  2.6796  0.2546  2.5907  0.4839  3.0745  2.1068\n",
              "1     244.007  0.9507  0.0070  2.6995  0.2548  2.5664  0.4763  3.0427  2.0901\n",
              "2     244.010  0.9451  0.0070  2.6278  0.2541  2.4836  0.4722  2.9558  2.0114\n",
              "3     244.014  0.9445  0.0071  2.7611  0.2554  2.6078  0.4743  3.0821  2.1335\n",
              "4     244.017  0.9382  0.0071  2.7123  0.2549  2.5447  0.4703  3.0151  2.0744\n",
              "...       ...     ...     ...     ...     ...     ...     ...     ...     ...\n",
              "5284  271.417  0.7465  0.0097  1.3525  0.2523  1.0096  0.3700  1.3796  0.6396\n",
              "5285  271.424  0.0000  0.0000  1.4786  0.2496  0.0000     NaN     NaN     NaN\n",
              "5286  271.431  0.0000  0.0000  1.4404  0.2503  0.0000     NaN     NaN     NaN\n",
              "5287  271.438  0.0000  0.0000  1.3914  0.2513  0.0000     NaN     NaN     NaN\n",
              "5288  271.444  0.0000  0.0000  1.3613  0.2520  0.0000     NaN     NaN     NaN\n",
              "\n",
              "[5289 rows x 9 columns]"
            ],
            "text/html": [
              "\n",
              "  <div id=\"df-1556a8ea-b2dc-4bab-9c70-f84da37f9a7b\">\n",
              "    <div class=\"colab-df-container\">\n",
              "      <div>\n",
              "<style scoped>\n",
              "    .dataframe tbody tr th:only-of-type {\n",
              "        vertical-align: middle;\n",
              "    }\n",
              "\n",
              "    .dataframe tbody tr th {\n",
              "        vertical-align: top;\n",
              "    }\n",
              "\n",
              "    .dataframe thead th {\n",
              "        text-align: right;\n",
              "    }\n",
              "</style>\n",
              "<table border=\"1\" class=\"dataframe\">\n",
              "  <thead>\n",
              "    <tr style=\"text-align: right;\">\n",
              "      <th></th>\n",
              "      <th>Time</th>\n",
              "      <th>C</th>\n",
              "      <th>SD_C</th>\n",
              "      <th>Q</th>\n",
              "      <th>SD_Q</th>\n",
              "      <th>QC</th>\n",
              "      <th>SD_QC</th>\n",
              "      <th>NoUse</th>\n",
              "      <th>NoUse2</th>\n",
              "    </tr>\n",
              "  </thead>\n",
              "  <tbody>\n",
              "    <tr>\n",
              "      <th>0</th>\n",
              "      <td>244.003</td>\n",
              "      <td>0.9668</td>\n",
              "      <td>0.0068</td>\n",
              "      <td>2.6796</td>\n",
              "      <td>0.2546</td>\n",
              "      <td>2.5907</td>\n",
              "      <td>0.4839</td>\n",
              "      <td>3.0745</td>\n",
              "      <td>2.1068</td>\n",
              "    </tr>\n",
              "    <tr>\n",
              "      <th>1</th>\n",
              "      <td>244.007</td>\n",
              "      <td>0.9507</td>\n",
              "      <td>0.0070</td>\n",
              "      <td>2.6995</td>\n",
              "      <td>0.2548</td>\n",
              "      <td>2.5664</td>\n",
              "      <td>0.4763</td>\n",
              "      <td>3.0427</td>\n",
              "      <td>2.0901</td>\n",
              "    </tr>\n",
              "    <tr>\n",
              "      <th>2</th>\n",
              "      <td>244.010</td>\n",
              "      <td>0.9451</td>\n",
              "      <td>0.0070</td>\n",
              "      <td>2.6278</td>\n",
              "      <td>0.2541</td>\n",
              "      <td>2.4836</td>\n",
              "      <td>0.4722</td>\n",
              "      <td>2.9558</td>\n",
              "      <td>2.0114</td>\n",
              "    </tr>\n",
              "    <tr>\n",
              "      <th>3</th>\n",
              "      <td>244.014</td>\n",
              "      <td>0.9445</td>\n",
              "      <td>0.0071</td>\n",
              "      <td>2.7611</td>\n",
              "      <td>0.2554</td>\n",
              "      <td>2.6078</td>\n",
              "      <td>0.4743</td>\n",
              "      <td>3.0821</td>\n",
              "      <td>2.1335</td>\n",
              "    </tr>\n",
              "    <tr>\n",
              "      <th>4</th>\n",
              "      <td>244.017</td>\n",
              "      <td>0.9382</td>\n",
              "      <td>0.0071</td>\n",
              "      <td>2.7123</td>\n",
              "      <td>0.2549</td>\n",
              "      <td>2.5447</td>\n",
              "      <td>0.4703</td>\n",
              "      <td>3.0151</td>\n",
              "      <td>2.0744</td>\n",
              "    </tr>\n",
              "    <tr>\n",
              "      <th>...</th>\n",
              "      <td>...</td>\n",
              "      <td>...</td>\n",
              "      <td>...</td>\n",
              "      <td>...</td>\n",
              "      <td>...</td>\n",
              "      <td>...</td>\n",
              "      <td>...</td>\n",
              "      <td>...</td>\n",
              "      <td>...</td>\n",
              "    </tr>\n",
              "    <tr>\n",
              "      <th>5284</th>\n",
              "      <td>271.417</td>\n",
              "      <td>0.7465</td>\n",
              "      <td>0.0097</td>\n",
              "      <td>1.3525</td>\n",
              "      <td>0.2523</td>\n",
              "      <td>1.0096</td>\n",
              "      <td>0.3700</td>\n",
              "      <td>1.3796</td>\n",
              "      <td>0.6396</td>\n",
              "    </tr>\n",
              "    <tr>\n",
              "      <th>5285</th>\n",
              "      <td>271.424</td>\n",
              "      <td>0.0000</td>\n",
              "      <td>0.0000</td>\n",
              "      <td>1.4786</td>\n",
              "      <td>0.2496</td>\n",
              "      <td>0.0000</td>\n",
              "      <td>NaN</td>\n",
              "      <td>NaN</td>\n",
              "      <td>NaN</td>\n",
              "    </tr>\n",
              "    <tr>\n",
              "      <th>5286</th>\n",
              "      <td>271.431</td>\n",
              "      <td>0.0000</td>\n",
              "      <td>0.0000</td>\n",
              "      <td>1.4404</td>\n",
              "      <td>0.2503</td>\n",
              "      <td>0.0000</td>\n",
              "      <td>NaN</td>\n",
              "      <td>NaN</td>\n",
              "      <td>NaN</td>\n",
              "    </tr>\n",
              "    <tr>\n",
              "      <th>5287</th>\n",
              "      <td>271.438</td>\n",
              "      <td>0.0000</td>\n",
              "      <td>0.0000</td>\n",
              "      <td>1.3914</td>\n",
              "      <td>0.2513</td>\n",
              "      <td>0.0000</td>\n",
              "      <td>NaN</td>\n",
              "      <td>NaN</td>\n",
              "      <td>NaN</td>\n",
              "    </tr>\n",
              "    <tr>\n",
              "      <th>5288</th>\n",
              "      <td>271.444</td>\n",
              "      <td>0.0000</td>\n",
              "      <td>0.0000</td>\n",
              "      <td>1.3613</td>\n",
              "      <td>0.2520</td>\n",
              "      <td>0.0000</td>\n",
              "      <td>NaN</td>\n",
              "      <td>NaN</td>\n",
              "      <td>NaN</td>\n",
              "    </tr>\n",
              "  </tbody>\n",
              "</table>\n",
              "<p>5289 rows × 9 columns</p>\n",
              "</div>\n",
              "      <button class=\"colab-df-convert\" onclick=\"convertToInteractive('df-1556a8ea-b2dc-4bab-9c70-f84da37f9a7b')\"\n",
              "              title=\"Convert this dataframe to an interactive table.\"\n",
              "              style=\"display:none;\">\n",
              "        \n",
              "  <svg xmlns=\"http://www.w3.org/2000/svg\" height=\"24px\"viewBox=\"0 0 24 24\"\n",
              "       width=\"24px\">\n",
              "    <path d=\"M0 0h24v24H0V0z\" fill=\"none\"/>\n",
              "    <path d=\"M18.56 5.44l.94 2.06.94-2.06 2.06-.94-2.06-.94-.94-2.06-.94 2.06-2.06.94zm-11 1L8.5 8.5l.94-2.06 2.06-.94-2.06-.94L8.5 2.5l-.94 2.06-2.06.94zm10 10l.94 2.06.94-2.06 2.06-.94-2.06-.94-.94-2.06-.94 2.06-2.06.94z\"/><path d=\"M17.41 7.96l-1.37-1.37c-.4-.4-.92-.59-1.43-.59-.52 0-1.04.2-1.43.59L10.3 9.45l-7.72 7.72c-.78.78-.78 2.05 0 2.83L4 21.41c.39.39.9.59 1.41.59.51 0 1.02-.2 1.41-.59l7.78-7.78 2.81-2.81c.8-.78.8-2.07 0-2.86zM5.41 20L4 18.59l7.72-7.72 1.47 1.35L5.41 20z\"/>\n",
              "  </svg>\n",
              "      </button>\n",
              "      \n",
              "  <style>\n",
              "    .colab-df-container {\n",
              "      display:flex;\n",
              "      flex-wrap:wrap;\n",
              "      gap: 12px;\n",
              "    }\n",
              "\n",
              "    .colab-df-convert {\n",
              "      background-color: #E8F0FE;\n",
              "      border: none;\n",
              "      border-radius: 50%;\n",
              "      cursor: pointer;\n",
              "      display: none;\n",
              "      fill: #1967D2;\n",
              "      height: 32px;\n",
              "      padding: 0 0 0 0;\n",
              "      width: 32px;\n",
              "    }\n",
              "\n",
              "    .colab-df-convert:hover {\n",
              "      background-color: #E2EBFA;\n",
              "      box-shadow: 0px 1px 2px rgba(60, 64, 67, 0.3), 0px 1px 3px 1px rgba(60, 64, 67, 0.15);\n",
              "      fill: #174EA6;\n",
              "    }\n",
              "\n",
              "    [theme=dark] .colab-df-convert {\n",
              "      background-color: #3B4455;\n",
              "      fill: #D2E3FC;\n",
              "    }\n",
              "\n",
              "    [theme=dark] .colab-df-convert:hover {\n",
              "      background-color: #434B5C;\n",
              "      box-shadow: 0px 1px 3px 1px rgba(0, 0, 0, 0.15);\n",
              "      filter: drop-shadow(0px 1px 2px rgba(0, 0, 0, 0.3));\n",
              "      fill: #FFFFFF;\n",
              "    }\n",
              "  </style>\n",
              "\n",
              "      <script>\n",
              "        const buttonEl =\n",
              "          document.querySelector('#df-1556a8ea-b2dc-4bab-9c70-f84da37f9a7b button.colab-df-convert');\n",
              "        buttonEl.style.display =\n",
              "          google.colab.kernel.accessAllowed ? 'block' : 'none';\n",
              "\n",
              "        async function convertToInteractive(key) {\n",
              "          const element = document.querySelector('#df-1556a8ea-b2dc-4bab-9c70-f84da37f9a7b');\n",
              "          const dataTable =\n",
              "            await google.colab.kernel.invokeFunction('convertToInteractive',\n",
              "                                                     [key], {});\n",
              "          if (!dataTable) return;\n",
              "\n",
              "          const docLinkHtml = 'Like what you see? Visit the ' +\n",
              "            '<a target=\"_blank\" href=https://colab.research.google.com/notebooks/data_table.ipynb>data table notebook</a>'\n",
              "            + ' to learn more about interactive tables.';\n",
              "          element.innerHTML = '';\n",
              "          dataTable['output_type'] = 'display_data';\n",
              "          await google.colab.output.renderOutput(dataTable, element);\n",
              "          const docLink = document.createElement('div');\n",
              "          docLink.innerHTML = docLinkHtml;\n",
              "          element.appendChild(docLink);\n",
              "        }\n",
              "      </script>\n",
              "    </div>\n",
              "  </div>\n",
              "  "
            ]
          },
          "metadata": {},
          "execution_count": 35
        }
      ]
    },
    {
      "cell_type": "code",
      "source": [
        "df_2"
      ],
      "metadata": {
        "colab": {
          "base_uri": "https://localhost:8080/"
        },
        "id": "ZFtnn-dwSPCy",
        "outputId": "7a11b898-2a4f-4e7c-f411-fa7e5acd9406"
      },
      "execution_count": null,
      "outputs": [
        {
          "output_type": "execute_result",
          "data": {
            "text/plain": [
              "          Time       C    SD_C       Q    SD_Q      QC   SD_QC   NoUse  NoUse2\n",
              "0     246.5347  1.3922  0.0253  4.2128  0.3126  5.8650  0.8781  6.7431  4.9870\n",
              "1     246.5361  1.3950  0.0254  4.2856  0.3119  5.9786  0.8791  6.8577  5.0995\n",
              "2     246.5375  1.4020  0.0258  4.3692  0.3111  6.1257  0.8829  7.0086  5.2428\n",
              "3     246.5389  1.4070  0.0261  4.4405  0.3104  6.2478  0.8854  7.1332  5.3624\n",
              "4     246.5403  1.4105  0.0262  4.4719  0.3100  6.3075  0.8874  7.1949  5.4200\n",
              "...        ...     ...     ...     ...     ...     ...     ...     ...     ...\n",
              "5204  271.3542  0.0000  0.0000  1.1966  0.2190  0.0000     NaN     NaN     NaN\n",
              "5205  271.3611  0.0000  0.0000  1.1906  0.2191  0.0000     NaN     NaN     NaN\n",
              "5206  271.3681  0.0000  0.0000  1.1441  0.2200  0.0000     NaN     NaN     NaN\n",
              "5207  271.3750  0.0000  0.0000  1.1496  0.2199  0.0000     NaN     NaN     NaN\n",
              "5208  271.3819  0.0000  0.0000  1.3337  0.2176  0.0000     NaN     NaN     NaN\n",
              "\n",
              "[5209 rows x 9 columns]"
            ],
            "text/html": [
              "\n",
              "  <div id=\"df-9684ff85-bf87-4daa-b7dc-708a5bfeb07b\">\n",
              "    <div class=\"colab-df-container\">\n",
              "      <div>\n",
              "<style scoped>\n",
              "    .dataframe tbody tr th:only-of-type {\n",
              "        vertical-align: middle;\n",
              "    }\n",
              "\n",
              "    .dataframe tbody tr th {\n",
              "        vertical-align: top;\n",
              "    }\n",
              "\n",
              "    .dataframe thead th {\n",
              "        text-align: right;\n",
              "    }\n",
              "</style>\n",
              "<table border=\"1\" class=\"dataframe\">\n",
              "  <thead>\n",
              "    <tr style=\"text-align: right;\">\n",
              "      <th></th>\n",
              "      <th>Time</th>\n",
              "      <th>C</th>\n",
              "      <th>SD_C</th>\n",
              "      <th>Q</th>\n",
              "      <th>SD_Q</th>\n",
              "      <th>QC</th>\n",
              "      <th>SD_QC</th>\n",
              "      <th>NoUse</th>\n",
              "      <th>NoUse2</th>\n",
              "    </tr>\n",
              "  </thead>\n",
              "  <tbody>\n",
              "    <tr>\n",
              "      <th>0</th>\n",
              "      <td>246.5347</td>\n",
              "      <td>1.3922</td>\n",
              "      <td>0.0253</td>\n",
              "      <td>4.2128</td>\n",
              "      <td>0.3126</td>\n",
              "      <td>5.8650</td>\n",
              "      <td>0.8781</td>\n",
              "      <td>6.7431</td>\n",
              "      <td>4.9870</td>\n",
              "    </tr>\n",
              "    <tr>\n",
              "      <th>1</th>\n",
              "      <td>246.5361</td>\n",
              "      <td>1.3950</td>\n",
              "      <td>0.0254</td>\n",
              "      <td>4.2856</td>\n",
              "      <td>0.3119</td>\n",
              "      <td>5.9786</td>\n",
              "      <td>0.8791</td>\n",
              "      <td>6.8577</td>\n",
              "      <td>5.0995</td>\n",
              "    </tr>\n",
              "    <tr>\n",
              "      <th>2</th>\n",
              "      <td>246.5375</td>\n",
              "      <td>1.4020</td>\n",
              "      <td>0.0258</td>\n",
              "      <td>4.3692</td>\n",
              "      <td>0.3111</td>\n",
              "      <td>6.1257</td>\n",
              "      <td>0.8829</td>\n",
              "      <td>7.0086</td>\n",
              "      <td>5.2428</td>\n",
              "    </tr>\n",
              "    <tr>\n",
              "      <th>3</th>\n",
              "      <td>246.5389</td>\n",
              "      <td>1.4070</td>\n",
              "      <td>0.0261</td>\n",
              "      <td>4.4405</td>\n",
              "      <td>0.3104</td>\n",
              "      <td>6.2478</td>\n",
              "      <td>0.8854</td>\n",
              "      <td>7.1332</td>\n",
              "      <td>5.3624</td>\n",
              "    </tr>\n",
              "    <tr>\n",
              "      <th>4</th>\n",
              "      <td>246.5403</td>\n",
              "      <td>1.4105</td>\n",
              "      <td>0.0262</td>\n",
              "      <td>4.4719</td>\n",
              "      <td>0.3100</td>\n",
              "      <td>6.3075</td>\n",
              "      <td>0.8874</td>\n",
              "      <td>7.1949</td>\n",
              "      <td>5.4200</td>\n",
              "    </tr>\n",
              "    <tr>\n",
              "      <th>...</th>\n",
              "      <td>...</td>\n",
              "      <td>...</td>\n",
              "      <td>...</td>\n",
              "      <td>...</td>\n",
              "      <td>...</td>\n",
              "      <td>...</td>\n",
              "      <td>...</td>\n",
              "      <td>...</td>\n",
              "      <td>...</td>\n",
              "    </tr>\n",
              "    <tr>\n",
              "      <th>5204</th>\n",
              "      <td>271.3542</td>\n",
              "      <td>0.0000</td>\n",
              "      <td>0.0000</td>\n",
              "      <td>1.1966</td>\n",
              "      <td>0.2190</td>\n",
              "      <td>0.0000</td>\n",
              "      <td>NaN</td>\n",
              "      <td>NaN</td>\n",
              "      <td>NaN</td>\n",
              "    </tr>\n",
              "    <tr>\n",
              "      <th>5205</th>\n",
              "      <td>271.3611</td>\n",
              "      <td>0.0000</td>\n",
              "      <td>0.0000</td>\n",
              "      <td>1.1906</td>\n",
              "      <td>0.2191</td>\n",
              "      <td>0.0000</td>\n",
              "      <td>NaN</td>\n",
              "      <td>NaN</td>\n",
              "      <td>NaN</td>\n",
              "    </tr>\n",
              "    <tr>\n",
              "      <th>5206</th>\n",
              "      <td>271.3681</td>\n",
              "      <td>0.0000</td>\n",
              "      <td>0.0000</td>\n",
              "      <td>1.1441</td>\n",
              "      <td>0.2200</td>\n",
              "      <td>0.0000</td>\n",
              "      <td>NaN</td>\n",
              "      <td>NaN</td>\n",
              "      <td>NaN</td>\n",
              "    </tr>\n",
              "    <tr>\n",
              "      <th>5207</th>\n",
              "      <td>271.3750</td>\n",
              "      <td>0.0000</td>\n",
              "      <td>0.0000</td>\n",
              "      <td>1.1496</td>\n",
              "      <td>0.2199</td>\n",
              "      <td>0.0000</td>\n",
              "      <td>NaN</td>\n",
              "      <td>NaN</td>\n",
              "      <td>NaN</td>\n",
              "    </tr>\n",
              "    <tr>\n",
              "      <th>5208</th>\n",
              "      <td>271.3819</td>\n",
              "      <td>0.0000</td>\n",
              "      <td>0.0000</td>\n",
              "      <td>1.3337</td>\n",
              "      <td>0.2176</td>\n",
              "      <td>0.0000</td>\n",
              "      <td>NaN</td>\n",
              "      <td>NaN</td>\n",
              "      <td>NaN</td>\n",
              "    </tr>\n",
              "  </tbody>\n",
              "</table>\n",
              "<p>5209 rows × 9 columns</p>\n",
              "</div>\n",
              "      <button class=\"colab-df-convert\" onclick=\"convertToInteractive('df-9684ff85-bf87-4daa-b7dc-708a5bfeb07b')\"\n",
              "              title=\"Convert this dataframe to an interactive table.\"\n",
              "              style=\"display:none;\">\n",
              "        \n",
              "  <svg xmlns=\"http://www.w3.org/2000/svg\" height=\"24px\"viewBox=\"0 0 24 24\"\n",
              "       width=\"24px\">\n",
              "    <path d=\"M0 0h24v24H0V0z\" fill=\"none\"/>\n",
              "    <path d=\"M18.56 5.44l.94 2.06.94-2.06 2.06-.94-2.06-.94-.94-2.06-.94 2.06-2.06.94zm-11 1L8.5 8.5l.94-2.06 2.06-.94-2.06-.94L8.5 2.5l-.94 2.06-2.06.94zm10 10l.94 2.06.94-2.06 2.06-.94-2.06-.94-.94-2.06-.94 2.06-2.06.94z\"/><path d=\"M17.41 7.96l-1.37-1.37c-.4-.4-.92-.59-1.43-.59-.52 0-1.04.2-1.43.59L10.3 9.45l-7.72 7.72c-.78.78-.78 2.05 0 2.83L4 21.41c.39.39.9.59 1.41.59.51 0 1.02-.2 1.41-.59l7.78-7.78 2.81-2.81c.8-.78.8-2.07 0-2.86zM5.41 20L4 18.59l7.72-7.72 1.47 1.35L5.41 20z\"/>\n",
              "  </svg>\n",
              "      </button>\n",
              "      \n",
              "  <style>\n",
              "    .colab-df-container {\n",
              "      display:flex;\n",
              "      flex-wrap:wrap;\n",
              "      gap: 12px;\n",
              "    }\n",
              "\n",
              "    .colab-df-convert {\n",
              "      background-color: #E8F0FE;\n",
              "      border: none;\n",
              "      border-radius: 50%;\n",
              "      cursor: pointer;\n",
              "      display: none;\n",
              "      fill: #1967D2;\n",
              "      height: 32px;\n",
              "      padding: 0 0 0 0;\n",
              "      width: 32px;\n",
              "    }\n",
              "\n",
              "    .colab-df-convert:hover {\n",
              "      background-color: #E2EBFA;\n",
              "      box-shadow: 0px 1px 2px rgba(60, 64, 67, 0.3), 0px 1px 3px 1px rgba(60, 64, 67, 0.15);\n",
              "      fill: #174EA6;\n",
              "    }\n",
              "\n",
              "    [theme=dark] .colab-df-convert {\n",
              "      background-color: #3B4455;\n",
              "      fill: #D2E3FC;\n",
              "    }\n",
              "\n",
              "    [theme=dark] .colab-df-convert:hover {\n",
              "      background-color: #434B5C;\n",
              "      box-shadow: 0px 1px 3px 1px rgba(0, 0, 0, 0.15);\n",
              "      filter: drop-shadow(0px 1px 2px rgba(0, 0, 0, 0.3));\n",
              "      fill: #FFFFFF;\n",
              "    }\n",
              "  </style>\n",
              "\n",
              "      <script>\n",
              "        const buttonEl =\n",
              "          document.querySelector('#df-9684ff85-bf87-4daa-b7dc-708a5bfeb07b button.colab-df-convert');\n",
              "        buttonEl.style.display =\n",
              "          google.colab.kernel.accessAllowed ? 'block' : 'none';\n",
              "\n",
              "        async function convertToInteractive(key) {\n",
              "          const element = document.querySelector('#df-9684ff85-bf87-4daa-b7dc-708a5bfeb07b');\n",
              "          const dataTable =\n",
              "            await google.colab.kernel.invokeFunction('convertToInteractive',\n",
              "                                                     [key], {});\n",
              "          if (!dataTable) return;\n",
              "\n",
              "          const docLinkHtml = 'Like what you see? Visit the ' +\n",
              "            '<a target=\"_blank\" href=https://colab.research.google.com/notebooks/data_table.ipynb>data table notebook</a>'\n",
              "            + ' to learn more about interactive tables.';\n",
              "          element.innerHTML = '';\n",
              "          dataTable['output_type'] = 'display_data';\n",
              "          await google.colab.output.renderOutput(dataTable, element);\n",
              "          const docLink = document.createElement('div');\n",
              "          docLink.innerHTML = docLinkHtml;\n",
              "          element.appendChild(docLink);\n",
              "        }\n",
              "      </script>\n",
              "    </div>\n",
              "  </div>\n",
              "  "
            ]
          },
          "metadata": {},
          "execution_count": 36
        }
      ]
    },
    {
      "cell_type": "markdown",
      "source": [
        "Information about the diffferent variables :\n",
        "\n",
        "*   Time  = time, in days since 1.1.21\n",
        "*   C     = suspended load concentration\n",
        "*   SD_C  = standard deviation of C\n",
        "*   Q     = flow rate\n",
        "*   SD_Q  = standard deviation of Q\n",
        "*   QC    = suspended load tranport, kg/s (QC)\n",
        "*   SD_QC = standard deviation of Q\n",
        "*   NoUse = column with variables not useful for this exercise\n",
        "\n",
        "GS1 : The station is located downstream of the alluvial plain\n",
        "GS2 : The station is located at the exit of the glacier, upstream of the alluvial plain"
      ],
      "metadata": {
        "id": "fjtGptcKSvSA"
      }
    },
    {
      "cell_type": "markdown",
      "source": [
        "## Part II : Loading of packaging useful for the entire project"
      ],
      "metadata": {
        "id": "Fa9YT8XjUGC1"
      }
    },
    {
      "cell_type": "markdown",
      "source": [
        "Here, the goal is to compile and load all the packages used to complete the project"
      ],
      "metadata": {
        "id": "ISmaA_oTEEEW"
      }
    },
    {
      "cell_type": "code",
      "execution_count": null,
      "metadata": {
        "id": "RUD8VGjHT-Kt"
      },
      "outputs": [],
      "source": [
        "import pandas as pd\n",
        "import numpy as np\n",
        "from sklearn.model_selection import train_test_split\n",
        "from sklearn.ensemble import RandomForestClassifier\n",
        "from sklearn.metrics import accuracy_score\n",
        "from sklearn.metrics import confusion_matrix\n",
        "from sklearn import preprocessing\n",
        "label_encoder = preprocessing.LabelEncoder()"
      ]
    },
    {
      "cell_type": "markdown",
      "source": [
        "## Part III : Data processing"
      ],
      "metadata": {
        "id": "6thCMhtsUGEy"
      }
    },
    {
      "cell_type": "markdown",
      "source": [
        "The purpose of this section is to remove unnecessary collums from the dataframe as well as to remove NaN values present in the data"
      ],
      "metadata": {
        "id": "0gZP6aYUuk97"
      }
    },
    {
      "cell_type": "code",
      "source": [
        "df_1.info()"
      ],
      "metadata": {
        "colab": {
          "base_uri": "https://localhost:8080/"
        },
        "id": "Vzi-9kynuxG5",
        "outputId": "b73338de-c2c8-40e2-aa9e-0e82cb80868b"
      },
      "execution_count": null,
      "outputs": [
        {
          "output_type": "stream",
          "name": "stdout",
          "text": [
            "<class 'pandas.core.frame.DataFrame'>\n",
            "RangeIndex: 5289 entries, 0 to 5288\n",
            "Data columns (total 9 columns):\n",
            " #   Column  Non-Null Count  Dtype  \n",
            "---  ------  --------------  -----  \n",
            " 0   Time    5289 non-null   float64\n",
            " 1   C       5289 non-null   float64\n",
            " 2   SD_C    5289 non-null   float64\n",
            " 3   Q       5289 non-null   float64\n",
            " 4   SD_Q    5289 non-null   float64\n",
            " 5   QC      5289 non-null   float64\n",
            " 6   SD_QC   5239 non-null   float64\n",
            " 7   NoUse   5239 non-null   float64\n",
            " 8   NoUse2  5239 non-null   float64\n",
            "dtypes: float64(9)\n",
            "memory usage: 372.0 KB\n"
          ]
        }
      ]
    },
    {
      "cell_type": "code",
      "source": [
        "df_2.info()"
      ],
      "metadata": {
        "colab": {
          "base_uri": "https://localhost:8080/"
        },
        "id": "-ngdArvLSew8",
        "outputId": "54d75980-d8cd-4cae-cbef-9b47e0460630"
      },
      "execution_count": null,
      "outputs": [
        {
          "output_type": "stream",
          "name": "stdout",
          "text": [
            "<class 'pandas.core.frame.DataFrame'>\n",
            "RangeIndex: 5209 entries, 0 to 5208\n",
            "Data columns (total 9 columns):\n",
            " #   Column  Non-Null Count  Dtype  \n",
            "---  ------  --------------  -----  \n",
            " 0   Time    5209 non-null   float64\n",
            " 1   C       5209 non-null   float64\n",
            " 2   SD_C    5209 non-null   float64\n",
            " 3   Q       5209 non-null   float64\n",
            " 4   SD_Q    5209 non-null   float64\n",
            " 5   QC      5209 non-null   float64\n",
            " 6   SD_QC   1964 non-null   float64\n",
            " 7   NoUse   1964 non-null   float64\n",
            " 8   NoUse2  1964 non-null   float64\n",
            "dtypes: float64(9)\n",
            "memory usage: 366.4 KB\n"
          ]
        }
      ]
    },
    {
      "cell_type": "code",
      "source": [
        "# Removing the two \"NoUse\" collums\n",
        "LGS1 = df_1[['Time','C','SD_C','Q','SD_Q','QC','SD_QC']].copy()\n",
        "LGS2 = df_2[['Time','C','SD_C','Q','SD_Q','QC','SD_QC']].copy()"
      ],
      "metadata": {
        "id": "vMlEll0uD1Wc"
      },
      "execution_count": null,
      "outputs": []
    },
    {
      "cell_type": "code",
      "source": [
        "LGS1.info()"
      ],
      "metadata": {
        "colab": {
          "base_uri": "https://localhost:8080/"
        },
        "id": "5jNaTuhyEPLk",
        "outputId": "136363ec-cc27-47de-a7be-5da7a5881c90"
      },
      "execution_count": null,
      "outputs": [
        {
          "output_type": "stream",
          "name": "stdout",
          "text": [
            "<class 'pandas.core.frame.DataFrame'>\n",
            "RangeIndex: 5289 entries, 0 to 5288\n",
            "Data columns (total 7 columns):\n",
            " #   Column  Non-Null Count  Dtype  \n",
            "---  ------  --------------  -----  \n",
            " 0   Time    5289 non-null   float64\n",
            " 1   C       5289 non-null   float64\n",
            " 2   SD_C    5289 non-null   float64\n",
            " 3   Q       5289 non-null   float64\n",
            " 4   SD_Q    5289 non-null   float64\n",
            " 5   QC      5289 non-null   float64\n",
            " 6   SD_QC   5239 non-null   float64\n",
            "dtypes: float64(7)\n",
            "memory usage: 289.4 KB\n"
          ]
        }
      ]
    },
    {
      "cell_type": "code",
      "source": [
        "LGS2.info()"
      ],
      "metadata": {
        "colab": {
          "base_uri": "https://localhost:8080/"
        },
        "id": "sF5ihP7TSxuJ",
        "outputId": "b7859542-46c4-4abc-ac08-69c77ef154ac"
      },
      "execution_count": null,
      "outputs": [
        {
          "output_type": "stream",
          "name": "stdout",
          "text": [
            "<class 'pandas.core.frame.DataFrame'>\n",
            "RangeIndex: 5209 entries, 0 to 5208\n",
            "Data columns (total 7 columns):\n",
            " #   Column  Non-Null Count  Dtype  \n",
            "---  ------  --------------  -----  \n",
            " 0   Time    5209 non-null   float64\n",
            " 1   C       5209 non-null   float64\n",
            " 2   SD_C    5209 non-null   float64\n",
            " 3   Q       5209 non-null   float64\n",
            " 4   SD_Q    5209 non-null   float64\n",
            " 5   QC      5209 non-null   float64\n",
            " 6   SD_QC   1964 non-null   float64\n",
            "dtypes: float64(7)\n",
            "memory usage: 285.0 KB\n"
          ]
        }
      ]
    },
    {
      "cell_type": "code",
      "source": [
        "# check that no raw has NaN values\n",
        "LGS1.isna().values.any()\n",
        "LGS2.isna().values.any()"
      ],
      "metadata": {
        "colab": {
          "base_uri": "https://localhost:8080/"
        },
        "id": "litjbkGoEsXD",
        "outputId": "270a4747-f3ca-4e01-d237-3d819821802c"
      },
      "execution_count": null,
      "outputs": [
        {
          "output_type": "execute_result",
          "data": {
            "text/plain": [
              "True"
            ]
          },
          "metadata": {},
          "execution_count": 12
        }
      ]
    },
    {
      "cell_type": "code",
      "source": [
        "# if true -> deleting all raw containing NaN\n",
        "LGS1_noNAN = LGS1.dropna(axis=0)\n",
        "LGS2_noNAN = LGS2.dropna(axis=0)"
      ],
      "metadata": {
        "id": "QDCTs-gtExPB"
      },
      "execution_count": null,
      "outputs": []
    },
    {
      "cell_type": "code",
      "source": [
        "# check again that no raw has NaN values\n",
        "LGS1_noNAN.isna().values.any()\n",
        "LGS2_noNAN.isna().values.any()"
      ],
      "metadata": {
        "colab": {
          "base_uri": "https://localhost:8080/"
        },
        "id": "y9xFKrpLE12T",
        "outputId": "6fb3f3c1-0b89-4025-d266-ba4a940c2e1e"
      },
      "execution_count": null,
      "outputs": [
        {
          "output_type": "execute_result",
          "data": {
            "text/plain": [
              "False"
            ]
          },
          "metadata": {},
          "execution_count": 14
        }
      ]
    },
    {
      "cell_type": "code",
      "source": [
        "LGS1_noNAN.info()"
      ],
      "metadata": {
        "colab": {
          "base_uri": "https://localhost:8080/"
        },
        "id": "2RRaY5eyE4yk",
        "outputId": "4e1c2feb-3e5f-40e6-adf9-ca2ad922e621"
      },
      "execution_count": null,
      "outputs": [
        {
          "output_type": "stream",
          "name": "stdout",
          "text": [
            "<class 'pandas.core.frame.DataFrame'>\n",
            "Int64Index: 5239 entries, 0 to 5284\n",
            "Data columns (total 7 columns):\n",
            " #   Column  Non-Null Count  Dtype  \n",
            "---  ------  --------------  -----  \n",
            " 0   Time    5239 non-null   float64\n",
            " 1   C       5239 non-null   float64\n",
            " 2   SD_C    5239 non-null   float64\n",
            " 3   Q       5239 non-null   float64\n",
            " 4   SD_Q    5239 non-null   float64\n",
            " 5   QC      5239 non-null   float64\n",
            " 6   SD_QC   5239 non-null   float64\n",
            "dtypes: float64(7)\n",
            "memory usage: 327.4 KB\n"
          ]
        }
      ]
    },
    {
      "cell_type": "code",
      "source": [
        "LGS2_noNAN.info()"
      ],
      "metadata": {
        "colab": {
          "base_uri": "https://localhost:8080/"
        },
        "id": "hoP3W-ECTrS0",
        "outputId": "a89b42d8-c71a-43e9-e71a-6356958cd245"
      },
      "execution_count": null,
      "outputs": [
        {
          "output_type": "stream",
          "name": "stdout",
          "text": [
            "<class 'pandas.core.frame.DataFrame'>\n",
            "Int64Index: 1964 entries, 0 to 1963\n",
            "Data columns (total 7 columns):\n",
            " #   Column  Non-Null Count  Dtype  \n",
            "---  ------  --------------  -----  \n",
            " 0   Time    1964 non-null   float64\n",
            " 1   C       1964 non-null   float64\n",
            " 2   SD_C    1964 non-null   float64\n",
            " 3   Q       1964 non-null   float64\n",
            " 4   SD_Q    1964 non-null   float64\n",
            " 5   QC      1964 non-null   float64\n",
            " 6   SD_QC   1964 non-null   float64\n",
            "dtypes: float64(7)\n",
            "memory usage: 122.8 KB\n"
          ]
        }
      ]
    },
    {
      "cell_type": "markdown",
      "source": [
        "## Part IV : Apply a Randomforest classifier on the LGS2 dataset"
      ],
      "metadata": {
        "id": "Tg4eVT7BumTF"
      }
    },
    {
      "cell_type": "markdown",
      "source": [
        "The aim of this section is to apply the RandomForest algorithm to the dataset from the measuring station located at outlet of the glacier (GS2)\n",
        "\n",
        "\n",
        "\n"
      ],
      "metadata": {
        "id": "PKfaiXaBUGGz"
      }
    },
    {
      "cell_type": "code",
      "source": [
        "Y = LGS2[['C']].copy()\n",
        "X = LGS2[['Q']].copy()"
      ],
      "metadata": {
        "id": "vycMFLnrECve"
      },
      "execution_count": null,
      "outputs": []
    },
    {
      "cell_type": "code",
      "source": [
        "X_train, X_test, y_train, y_test = train_test_split(X, Y, test_size=2200, train_size=3000)\n",
        "X_test, X_valid, y_test, y_valid = train_test_split(X_train, y_train, test_size=1500, train_size=1500)\n"
      ],
      "metadata": {
        "id": "9b0EySprVDaR"
      },
      "execution_count": null,
      "outputs": []
    },
    {
      "cell_type": "code",
      "source": [
        "print(len(X_train), len(X_test), len(X_valid))"
      ],
      "metadata": {
        "colab": {
          "base_uri": "https://localhost:8080/"
        },
        "id": "yx8_DB89WVUO",
        "outputId": "ec54c57f-e5b9-4938-896d-d3b915729489"
      },
      "execution_count": null,
      "outputs": [
        {
          "output_type": "stream",
          "name": "stdout",
          "text": [
            "3000 1500 1500\n"
          ]
        }
      ]
    },
    {
      "cell_type": "code",
      "source": [
        "label_encoder = preprocessing.LabelEncoder()\n",
        "y_train = label_encoder.fit_transform(y_train)\n",
        "y_test = label_encoder.fit_transform(y_test)\n",
        "y_valid = label_encoder.fit_transform(y_valid)"
      ],
      "metadata": {
        "colab": {
          "base_uri": "https://localhost:8080/"
        },
        "id": "_j5AMqIxWaNC",
        "outputId": "f76209f8-e74d-40fb-af5e-bf9bb7095d7f"
      },
      "execution_count": null,
      "outputs": [
        {
          "output_type": "stream",
          "name": "stderr",
          "text": [
            "/usr/local/lib/python3.7/dist-packages/sklearn/preprocessing/_label.py:115: DataConversionWarning: A column-vector y was passed when a 1d array was expected. Please change the shape of y to (n_samples, ), for example using ravel().\n",
            "  y = column_or_1d(y, warn=True)\n"
          ]
        }
      ]
    },
    {
      "cell_type": "code",
      "source": [
        "rfc = RandomForestClassifier()\n",
        "rfc.fit(X_train, y_train)"
      ],
      "metadata": {
        "colab": {
          "base_uri": "https://localhost:8080/"
        },
        "id": "X-HkSOE_Wd1w",
        "outputId": "c62d09db-4f59-4afb-eefb-6c0f75d02dd2"
      },
      "execution_count": null,
      "outputs": [
        {
          "output_type": "execute_result",
          "data": {
            "text/plain": [
              "RandomForestClassifier()"
            ]
          },
          "metadata": {},
          "execution_count": 21
        }
      ]
    },
    {
      "cell_type": "code",
      "source": [
        "rfc_valid = rfc.predict(X_valid)\n",
        "print(accuracy_score(y_valid, rfc_valid))"
      ],
      "metadata": {
        "colab": {
          "base_uri": "https://localhost:8080/"
        },
        "id": "S92FuQIpWg9x",
        "outputId": "48a302c9-602c-4f45-f192-ce9c296753f8"
      },
      "execution_count": null,
      "outputs": [
        {
          "output_type": "stream",
          "name": "stdout",
          "text": [
            "0.6286666666666667\n"
          ]
        }
      ]
    },
    {
      "cell_type": "code",
      "source": [
        "print('\\nMatrix confusion for RandomForestClassifier :')\n",
        "print(confusion_matrix(y_valid, rfc_valid))\n",
        "\n",
        "acc_rfc = accuracy_score(y_valid, rfc_valid)\n",
        "print(f'\\nThe accuracy of the model RandomForestClassifier is {acc_rfc:.1%}')"
      ],
      "metadata": {
        "colab": {
          "base_uri": "https://localhost:8080/"
        },
        "id": "Nu5bbGV0WnVm",
        "outputId": "d67badb0-535e-4f66-dabb-9dfbac71895a"
      },
      "execution_count": null,
      "outputs": [
        {
          "output_type": "stream",
          "name": "stdout",
          "text": [
            "\n",
            "Matrix confusion for RandomForestClassifier :\n",
            "[[939   0   0 ...   0   0   0]\n",
            " [  0   1   0 ...   0   0   0]\n",
            " [  0   0   1 ...   0   0   0]\n",
            " ...\n",
            " [  0   0   0 ...   0   0   0]\n",
            " [  0   0   0 ...   0   0   0]\n",
            " [  0   0   0 ...   0   0   0]]\n",
            "\n",
            "The accuracy of the model RandomForestClassifier is 62.9%\n"
          ]
        }
      ]
    },
    {
      "cell_type": "markdown",
      "source": [
        "## Part V : Apply a Randomforest classifier on the LGS1 dataset"
      ],
      "metadata": {
        "id": "6TqNF1XKT1jh"
      }
    },
    {
      "cell_type": "markdown",
      "source": [
        "The aim of this section is to apply the RandomForest algorithm to the dataset from the measuring station located downstream of the alluvial plaine (GS1)"
      ],
      "metadata": {
        "id": "9qed7HPyULYO"
      }
    },
    {
      "cell_type": "code",
      "source": [
        "Y = LGS1[['C']].copy()\n",
        "X = LGS1[['Q']].copy()"
      ],
      "metadata": {
        "id": "alj27YB4UL3C"
      },
      "execution_count": null,
      "outputs": []
    },
    {
      "cell_type": "code",
      "source": [
        "X_train, X_test, y_train, y_test = train_test_split(X, Y, test_size=2200, train_size=3000)\n",
        "X_test, X_valid, y_test, y_valid = train_test_split(X_train, y_train, test_size=1500, train_size=1500)"
      ],
      "metadata": {
        "id": "WSiP4S5aYeqv"
      },
      "execution_count": null,
      "outputs": []
    },
    {
      "cell_type": "code",
      "source": [
        "print(len(X_train), len(X_test), len(X_valid))"
      ],
      "metadata": {
        "colab": {
          "base_uri": "https://localhost:8080/"
        },
        "id": "Yb1D1CqCYh1G",
        "outputId": "0ef23d34-d90a-4956-a3e3-de1e57cb2f47"
      },
      "execution_count": null,
      "outputs": [
        {
          "output_type": "stream",
          "name": "stdout",
          "text": [
            "3000 1500 1500\n"
          ]
        }
      ]
    },
    {
      "cell_type": "code",
      "source": [
        "label_encoder = preprocessing.LabelEncoder()\n",
        "y_train = label_encoder.fit_transform(y_train)\n",
        "y_test = label_encoder.fit_transform(y_test)\n",
        "y_valid = label_encoder.fit_transform(y_valid)"
      ],
      "metadata": {
        "colab": {
          "base_uri": "https://localhost:8080/"
        },
        "id": "ZSpfSh3mYknQ",
        "outputId": "c03cd160-4813-46bb-efee-4050dedeb0df"
      },
      "execution_count": null,
      "outputs": [
        {
          "output_type": "stream",
          "name": "stderr",
          "text": [
            "/usr/local/lib/python3.7/dist-packages/sklearn/preprocessing/_label.py:115: DataConversionWarning: A column-vector y was passed when a 1d array was expected. Please change the shape of y to (n_samples, ), for example using ravel().\n",
            "  y = column_or_1d(y, warn=True)\n"
          ]
        }
      ]
    },
    {
      "cell_type": "code",
      "source": [
        "rfc = RandomForestClassifier()\n",
        "rfc.fit(X_train, y_train)"
      ],
      "metadata": {
        "colab": {
          "base_uri": "https://localhost:8080/"
        },
        "id": "ROdUJ2hDYnlv",
        "outputId": "a4764955-7b7a-49d1-fa47-2679a89333a9"
      },
      "execution_count": null,
      "outputs": [
        {
          "output_type": "execute_result",
          "data": {
            "text/plain": [
              "RandomForestClassifier()"
            ]
          },
          "metadata": {},
          "execution_count": 28
        }
      ]
    },
    {
      "cell_type": "code",
      "source": [
        "rfc_valid = rfc.predict(X_valid)\n",
        "print(accuracy_score(y_valid, rfc_valid))"
      ],
      "metadata": {
        "colab": {
          "base_uri": "https://localhost:8080/"
        },
        "id": "W2sfwEJfYr_k",
        "outputId": "52826344-1bf8-4ac6-ed81-b591a0bdc669"
      },
      "execution_count": null,
      "outputs": [
        {
          "output_type": "stream",
          "name": "stdout",
          "text": [
            "0.014\n"
          ]
        }
      ]
    },
    {
      "cell_type": "code",
      "source": [
        "print('\\nMatrix confusion for RandomForestClassifier :')\n",
        "print(confusion_matrix(y_valid, rfc_valid))\n",
        "\n",
        "acc_rfc = accuracy_score(y_valid, rfc_valid)\n",
        "print(f'\\nThe accuracy of the model RandomForestClassifier is {acc_rfc:.1%}')"
      ],
      "metadata": {
        "colab": {
          "base_uri": "https://localhost:8080/"
        },
        "id": "xAB1xAP5YuSY",
        "outputId": "1a1f352f-7dd2-421b-8b1e-ec9a12258ba3"
      },
      "execution_count": null,
      "outputs": [
        {
          "output_type": "stream",
          "name": "stdout",
          "text": [
            "\n",
            "Matrix confusion for RandomForestClassifier :\n",
            "[[19  0  0 ...  0  0  0]\n",
            " [ 0  1  0 ...  0  0  0]\n",
            " [ 0  0  1 ...  0  0  0]\n",
            " ...\n",
            " [ 0  0  0 ...  0  0  0]\n",
            " [ 0  0  0 ...  0  0  0]\n",
            " [ 0  0  0 ...  0  0  0]]\n",
            "\n",
            "The accuracy of the model RandomForestClassifier is 1.4%\n"
          ]
        }
      ]
    }
  ]
}